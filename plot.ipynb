{
 "cells": [
  {
   "cell_type": "code",
   "execution_count": 1,
   "metadata": {},
   "outputs": [],
   "source": [
    "import pandas as pd\n",
    "import seaborn as sns\n",
    "sns.set_theme()\n",
    "import matplotlib.pyplot as plt\n",
    "plt.rcParams['figure.dpi'] = 200"
   ]
  },
  {
   "cell_type": "code",
   "execution_count": 2,
   "metadata": {},
   "outputs": [],
   "source": [
    "all_models_mnist = ['MLPGAN', 'DCGAN', 'D2GAN', 'DropoutGAN', 'D2DropoutGAN']\n",
    "all_models_cifar10 = ['DCGAN', 'D2GAN', 'DropoutGAN']"
   ]
  },
  {
   "cell_type": "code",
   "execution_count": 3,
   "metadata": {},
   "outputs": [
    {
     "ename": "TypeError",
     "evalue": "object of type 'bool' has no len()",
     "output_type": "error",
     "traceback": [
      "\u001b[0;31m---------------------------------------------------------------------------\u001b[0m",
      "\u001b[0;31mTypeError\u001b[0m                                 Traceback (most recent call last)",
      "\u001b[1;32m/home/daniel/Documents/Uni/AML/redo/plot.ipynb Cell 3\u001b[0m in \u001b[0;36m<cell line: 18>\u001b[0;34m()\u001b[0m\n\u001b[1;32m     <a href='vscode-notebook-cell:/home/daniel/Documents/Uni/AML/redo/plot.ipynb#W1sZmlsZQ%3D%3D?line=12'>13</a>\u001b[0m     plt\u001b[39m.\u001b[39msavefig(\u001b[39mf\u001b[39m\u001b[39m'\u001b[39m\u001b[39m{\u001b[39;00mscore\u001b[39m}\u001b[39;00m\u001b[39m_\u001b[39m\u001b[39m{\u001b[39;00mdataset\u001b[39m}\u001b[39;00m\u001b[39m{\u001b[39;00msuffix\u001b[39m}\u001b[39;00m\u001b[39m'\u001b[39m)\n\u001b[1;32m     <a href='vscode-notebook-cell:/home/daniel/Documents/Uni/AML/redo/plot.ipynb#W1sZmlsZQ%3D%3D?line=13'>14</a>\u001b[0m     plt\u001b[39m.\u001b[39mshow()\n\u001b[0;32m---> <a href='vscode-notebook-cell:/home/daniel/Documents/Uni/AML/redo/plot.ipynb#W1sZmlsZQ%3D%3D?line=17'>18</a>\u001b[0m plot_score_for_data(\u001b[39m'\u001b[39;49m\u001b[39minception\u001b[39;49m\u001b[39m'\u001b[39;49m, \u001b[39m'\u001b[39;49m\u001b[39mMNIST\u001b[39;49m\u001b[39m'\u001b[39;49m, all_models_mnist)\n\u001b[1;32m     <a href='vscode-notebook-cell:/home/daniel/Documents/Uni/AML/redo/plot.ipynb#W1sZmlsZQ%3D%3D?line=18'>19</a>\u001b[0m plot_score_for_data(\u001b[39m'\u001b[39m\u001b[39minception\u001b[39m\u001b[39m'\u001b[39m, \u001b[39m'\u001b[39m\u001b[39mCIFAR10\u001b[39m\u001b[39m'\u001b[39m, all_models_cifar10)\n",
      "\u001b[1;32m/home/daniel/Documents/Uni/AML/redo/plot.ipynb Cell 3\u001b[0m in \u001b[0;36mplot_score_for_data\u001b[0;34m(score, dataset, models)\u001b[0m\n\u001b[1;32m      <a href='vscode-notebook-cell:/home/daniel/Documents/Uni/AML/redo/plot.ipynb#W1sZmlsZQ%3D%3D?line=0'>1</a>\u001b[0m \u001b[39mdef\u001b[39;00m \u001b[39mplot_score_for_data\u001b[39m(score: \u001b[39mstr\u001b[39m, dataset: \u001b[39mstr\u001b[39m, models: \u001b[39mlist\u001b[39m):\n\u001b[1;32m      <a href='vscode-notebook-cell:/home/daniel/Documents/Uni/AML/redo/plot.ipynb#W1sZmlsZQ%3D%3D?line=2'>3</a>\u001b[0m     suffix \u001b[39m=\u001b[39m \u001b[39m'\u001b[39m\u001b[39m'\u001b[39m\n\u001b[0;32m----> <a href='vscode-notebook-cell:/home/daniel/Documents/Uni/AML/redo/plot.ipynb#W1sZmlsZQ%3D%3D?line=3'>4</a>\u001b[0m     \u001b[39mif\u001b[39;00m \u001b[39mlen\u001b[39;49m(models \u001b[39m==\u001b[39;49m \u001b[39m1\u001b[39;49m):\n\u001b[1;32m      <a href='vscode-notebook-cell:/home/daniel/Documents/Uni/AML/redo/plot.ipynb#W1sZmlsZQ%3D%3D?line=4'>5</a>\u001b[0m         suffix \u001b[39m=\u001b[39m \u001b[39mf\u001b[39m\u001b[39m'\u001b[39m\u001b[39m_\u001b[39m\u001b[39m{\u001b[39;00mmodels[\u001b[39m0\u001b[39m]\u001b[39m}\u001b[39;00m\u001b[39m'\u001b[39m\n\u001b[1;32m      <a href='vscode-notebook-cell:/home/daniel/Documents/Uni/AML/redo/plot.ipynb#W1sZmlsZQ%3D%3D?line=6'>7</a>\u001b[0m     \u001b[39mfor\u001b[39;00m model \u001b[39min\u001b[39;00m models:\n",
      "\u001b[0;31mTypeError\u001b[0m: object of type 'bool' has no len()"
     ]
    }
   ],
   "source": [
    "def plot_score_for_data(score: str, dataset: str, models: list):\n",
    "\n",
    "    suffix = ''\n",
    "    if len(models == 1):\n",
    "        suffix = f'_{models[0]}'\n",
    "\n",
    "    for model in models:\n",
    "        stats = pd.read_csv(f'{dataset} - {model}/stats.csv')\n",
    "\n",
    "        plt.plot(stats[score][:100], label=model)\n",
    "\n",
    "    plt.legend()\n",
    "    plt.savefig(f'{score}_{dataset}{suffix}')\n",
    "    plt.show()\n",
    "    \n",
    "\n",
    "\n",
    "plot_score_for_data('inception', 'MNIST', all_models_mnist)\n",
    "plot_score_for_data('inception', 'CIFAR10', all_models_cifar10)\n",
    "\n",
    "#plot_score_for_data('mode', 'MNIST', all_models_mnist)\n",
    "#plot_score_for_data('mode', 'CIFAR10', all_models_cifar10)"
   ]
  },
  {
   "cell_type": "code",
   "execution_count": null,
   "metadata": {},
   "outputs": [],
   "source": [
    "def plot_max_score_for_data(score: str, dataset: str, models: list):\n",
    "\n",
    "    suffix = ''\n",
    "    if len(models == 1):\n",
    "        suffix = f'_{models[0]}'\n",
    "\n",
    "    max_scores = {}\n",
    "    for model in models:\n",
    "        stats = pd.read_csv(f'{dataset} - {model}/stats.csv')\n",
    "\n",
    "        max_scores[model] = stats[score][:100].max()\n",
    "\n",
    "    plt.bar(max_scores.keys(), max_scores.values())\n",
    "    plt.savefig(f'max_{score}_{dataset}{suffix}')\n",
    "    plt.show()\n",
    "    \n",
    "\n",
    "\n",
    "plot_max_score_for_data('inception', 'MNIST', all_models_mnist)\n",
    "plot_max_score_for_data('inception', 'CIFAR10', all_models_cifar10)\n",
    "#plot_max_score_for_data('mode', 'MNIST', all_models_mnist)\n",
    "#plot_max_score_for_data('mode', 'CIFAR10', all_models_cifar10)"
   ]
  },
  {
   "cell_type": "code",
   "execution_count": null,
   "metadata": {},
   "outputs": [],
   "source": [
    "def plot_inception_mode_for_data(dataset: str, model: str):\n",
    "\n",
    "\n",
    "    stats = pd.read_csv(f'{dataset} - {model}/stats.csv')\n",
    "\n",
    "    plt.plot(stats['inception'][:100], label='Inception Score')\n",
    "    plt.plot(stats['mode'][:100], label='Mode Score')\n",
    "\n",
    "    plt.legend()\n",
    "    plt.savefig(f'inc_mode_{dataset}_{model}')\n",
    "    plt.show()\n",
    "\n",
    "plot_inception_mode_for_data('MNIST', \"MLPGAN\")"
   ]
  },
  {
   "cell_type": "code",
   "execution_count": null,
   "metadata": {},
   "outputs": [],
   "source": [
    "for model in all_models_mnist:\n",
    "    plot_score_for_data('inception', 'MNIST', [model])\n",
    "\n",
    "for model in all_models_cifar10:\n",
    "    plot_score_for_data('inception', 'CIFAR10', [model])"
   ]
  }
 ],
 "metadata": {
  "kernelspec": {
   "display_name": "Python 3.10.6 64-bit",
   "language": "python",
   "name": "python3"
  },
  "language_info": {
   "codemirror_mode": {
    "name": "ipython",
    "version": 3
   },
   "file_extension": ".py",
   "mimetype": "text/x-python",
   "name": "python",
   "nbconvert_exporter": "python",
   "pygments_lexer": "ipython3",
   "version": "3.10.6"
  },
  "orig_nbformat": 4,
  "vscode": {
   "interpreter": {
    "hash": "31f2aee4e71d21fbe5cf8b01ff0e069b9275f58929596ceb00d14d90e3e16cd6"
   }
  }
 },
 "nbformat": 4,
 "nbformat_minor": 2
}
